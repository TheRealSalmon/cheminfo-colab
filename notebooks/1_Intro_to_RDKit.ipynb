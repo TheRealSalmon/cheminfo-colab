{
  "nbformat": 4,
  "nbformat_minor": 0,
  "metadata": {
    "colab": {
      "provenance": [],
      "authorship_tag": "ABX9TyPelZ4nP3043g4SwLWDj4Af",
      "include_colab_link": true
    },
    "kernelspec": {
      "name": "python3",
      "display_name": "Python 3"
    },
    "language_info": {
      "name": "python"
    }
  },
  "cells": [
    {
      "cell_type": "markdown",
      "metadata": {
        "id": "view-in-github",
        "colab_type": "text"
      },
      "source": [
        "<a href=\"https://colab.research.google.com/github/TheRealSalmon/cheminfo-colab/blob/main/notebooks/1_Intro_to_RDKit.ipynb\" target=\"_parent\"><img src=\"https://colab.research.google.com/assets/colab-badge.svg\" alt=\"Open In Colab\"/></a>"
      ]
    },
    {
      "cell_type": "markdown",
      "source": [
        "# Intro to RDKit\n",
        "\n",
        "RDKit is the bread-and-butter of cheminformatics. If you invest the time to become a cheminformatics expert, you will develop a love and hate relationship with this very powerful package.\n",
        "\n",
        "In this tutorial series, I will assume you are a Python beginner. I will try to explain any syntax I would have found confusing as a Python beginner.\n",
        "\n",
        "Let's begin by setting up our conda environment and downloading our dependencies."
      ],
      "metadata": {
        "id": "GAuOgz4bd8s7"
      }
    },
    {
      "cell_type": "code",
      "source": [
        "# this cell will crash your colab session, that's normal\n",
        "!pip install -q condacolab\n",
        "import condacolab\n",
        "condacolab.install()"
      ],
      "metadata": {
        "id": "SPpoTo9K6AHk"
      },
      "execution_count": null,
      "outputs": []
    },
    {
      "cell_type": "code",
      "source": [
        "!conda install -q -y -c conda-forge rdkit"
      ],
      "metadata": {
        "id": "gIBjFQZiKK5C"
      },
      "execution_count": null,
      "outputs": []
    },
    {
      "cell_type": "markdown",
      "source": [
        "## RDKit\n",
        "\n",
        "RDKit is an open-source cheminformatics library mostly written in C++ with Python bindings. We will go over the basic functions available in RDKit as well as try and give a sense of what is possible.\n",
        "\n",
        "First, you need to import the package."
      ],
      "metadata": {
        "id": "LdKRAyp9Nv_v"
      }
    },
    {
      "cell_type": "code",
      "source": [
        "from rdkit import Chem"
      ],
      "metadata": {
        "id": "0rwaRDmDOYvi"
      },
      "execution_count": null,
      "outputs": []
    },
    {
      "cell_type": "markdown",
      "source": [
        "## SMILES\n",
        "\n",
        "The first question on your mind should be ... how do I even communicate the idea of a molecule to a computer? Well someone has already thought of this problem and devised the SMILES format. We won't go too deeply into SMILES strings during this tutorial as we want to focus on RDKit. However, here is an [introduction to SMILES strings and other cheminformatics string representations](https://interactive-cheminformatics.streamlit.app/strings)."
      ],
      "metadata": {
        "id": "jACG71rwMo4h"
      }
    },
    {
      "cell_type": "code",
      "source": [
        "smi = 'N1CCCC1c1cocc1'  # can you guess what molecule this is?\n",
        "mol = Chem.MolFromSmiles(smi)\n",
        "\n",
        "# NOTE: whatever object you place at the end of a cell will be displayed\n",
        "mol"
      ],
      "metadata": {
        "id": "bp3XoX0kLoOS"
      },
      "execution_count": null,
      "outputs": []
    },
    {
      "cell_type": "markdown",
      "source": [
        "Hmm, the default `__repr__` function for the RDKit Mol class is not very useful is it. Thankfully, RDKit supplies a useful module for automatically converting Mol objects to images."
      ],
      "metadata": {
        "id": "wViC2AnoOpBI"
      }
    },
    {
      "cell_type": "code",
      "source": [
        "from rdkit.Chem.Draw import IPythonConsole\n",
        "\n",
        "mol"
      ],
      "metadata": {
        "id": "7RE1RlmRPBZz"
      },
      "execution_count": null,
      "outputs": []
    },
    {
      "cell_type": "markdown",
      "source": [
        "As a cheminformatician, there are a few things I do reasonably often.\n",
        "* Manipulate molecular structures\n",
        "  * Add explicit hydrogens\n",
        "  * Transform functional groups (virtual reactions)\n",
        "* Generate and rank conformers\n",
        "* Calculate descriptors"
      ],
      "metadata": {
        "id": "ohGQmC9QPZJk"
      }
    },
    {
      "cell_type": "code",
      "source": [
        "# Chem.AddHs returns a copy of the mol but with implicit hydrogens converted to explicit hydrogens\n",
        "mol_with_hs = Chem.AddHs(mol)\n",
        "mol_with_hs"
      ],
      "metadata": {
        "id": "ONnTwZwHPG_s"
      },
      "execution_count": null,
      "outputs": []
    },
    {
      "cell_type": "code",
      "source": [
        "# Chem.AllChem.EmbedMolecule adds a conformer to the molecule in-place, meaning the original molecule is modified and nothing is returned\n",
        "from rdkit.Chem import AllChem\n",
        "\n",
        "AllChem.EmbedMolecule(mol_with_hs)\n",
        "mol_with_hs"
      ],
      "metadata": {
        "id": "wCc9B8gfPxeo"
      },
      "execution_count": null,
      "outputs": []
    },
    {
      "cell_type": "code",
      "source": [
        "# Chem.Descriptors and Chem.Descriptors.rdMolDescriptors contain most of the common descriptors available in RDKit\n",
        "from rdkit.Chem import Descriptors\n",
        "from rdkit.Chem import rdMolDescriptors\n",
        "\n",
        "print('MW:', Descriptors.MolWt(mol))\n",
        "print('cLogP:', Descriptors.MolLogP(mol))\n",
        "print('# HBA:', rdMolDescriptors.CalcNumLipinskiHBA(mol))\n",
        "print('# HBD:', rdMolDescriptors.CalcNumLipinskiHBD(mol))\n",
        "print('tPSA:', rdMolDescriptors.CalcTPSA(mol))"
      ],
      "metadata": {
        "id": "XAkxH9LgQGGG"
      },
      "execution_count": null,
      "outputs": []
    },
    {
      "cell_type": "markdown",
      "source": [
        "## A Short Rant\n",
        "\n",
        "I'm sure you can already see that RDKit is very ... quirky. If you will humor me, here are a few examples."
      ],
      "metadata": {
        "id": "JzU2gqYbSQtE"
      }
    },
    {
      "cell_type": "code",
      "source": [
        "# this just feels so much cleaner\n",
        "# also why is the module name capitalized, big ew\n",
        "import rdkit  # expectation\n",
        "from rdkit import Chem  # reality\n",
        "\n",
        "# my object-oriented expectations are that constructors SHOULD be a classmethod of the class\n",
        "mol = rdkit.mol.from_smiles(smi)  # expectation\n",
        "mol = Chem.MolFromSmiles(smi)  # reality\n",
        "\n",
        "# you will find a lot of module duplication, where there are two distinct\n",
        "#  modules which really cover the same purpose\n",
        "from rdkit.descriptors import mol_wt, tpsa  # expectation\n",
        "from rdkit.Chem.Descriptors import MolWt  # reality\n",
        "from rdkit.Chem.rdMolDescriptors import CalcTPSA  # reality\n",
        "\n",
        "# some methods return a copy of the mol without modifying the originals, others modify the original and return nothing\n",
        "# instead, methods should return a copy by default and have a parameter to modify in place\n",
        "AddHs(mol)  # returns a copy\n",
        "EmbedMolecule(mol)  # modifies in place ... why?"
      ],
      "metadata": {
        "id": "-fn2_CpBS7g0"
      },
      "execution_count": null,
      "outputs": []
    },
    {
      "cell_type": "markdown",
      "source": [
        "My biggest gripe with RDKit? It's documentation ranges from great to terrible.\n",
        "\n",
        "If I'm trying to dig into a new package, I will google something like \"package_name class_name documentation\". But when I was first starting out and Google searched \"rdkit mol documentation\", my search results put the correct page result (rdkit.Chem.rdchem module) as the 6th result. This made it really hard to access the information I needed. RDKit's Python documentation needs a major overhaul.\n",
        "\n",
        "On the other hand, the RDKit Cookbook and Getting Started pages are excellent with lots of great examples and code snippets. But you will very quickly learn that searching the RDKit documentation is a separate skill-set that you will need to master alongside the skill-set of programming with RDKit."
      ],
      "metadata": {
        "id": "RURIpxYGVEWA"
      }
    },
    {
      "cell_type": "markdown",
      "source": [
        "## Practice Problems\n",
        "\n",
        "How about we try some practice problems. Here are a few common cheminformatics functions that will be good introductory problems.\n",
        "\n",
        "#### Lipinski's Rule of 5\n",
        "\n",
        "A molecule satisfies Lipinski's Rule of 5 if all the conditions are satisfied:\n",
        "* \\# HBDs <= 5\n",
        "* \\# HBAs <= 10\n",
        "* MW <= 500\n",
        "* LogD <= 5\n",
        "\n",
        "Fill in the function that checks if a molecule satisfies Lipinski's Rule of 5."
      ],
      "metadata": {
        "id": "UahBhmrGWx5N"
      }
    },
    {
      "cell_type": "code",
      "source": [
        "from rdkit.Chem.Descriptors import MolWt, MolLogP, rdMolDescriptors\n",
        "from rdkit.Chem.rdMolDescriptors import CalcNumLipinskiHBA, CalcNumLipinskiHBD\n",
        "\n",
        "smiles = [\n",
        "    \"CN1C=NC2=C1C(=O)N(C)C(=O)N2C\",\n",
        "    \"CNC[C@H](O)[C@@H](O)[C@H](O)[C@H](O)CO\",\n",
        "    \"N[C@@H](CC1=CC(O)=C(O)C=C1)C(O)=O\",\n",
        "    \"CC(C)(C#CC1=NC(=C(C=C1)C2=C3C(=C(C=C2)Cl)C(=NN3CC(F)(F)F)NS(=O)(=O)C)C(CC4=CC(=CC(=C4)F)F)NC(=O)CN5C6=C(C7CC7C6(F)F)C(=N5)C(F)(F)F)S(=O)(=O)C\",\n",
        "]\n",
        "answers = [True, False, True, False]\n",
        "\n",
        "def lipinski_ro5(smi: str) -> bool:\n",
        "  \"\"\"\n",
        "  Return True if mol satisfies Ro5, False if mol breaks Ro5.\n",
        "  \"\"\"\n",
        "  mol = Chem.MolFromSmiles(smi)\n",
        "  is_bad_mol = False\n",
        "\n",
        "  ### FILL IN THE CODE ###\n",
        "\n",
        "  ### ### ## ## ## ### ###\n",
        "\n",
        "  return not is_bad_mol\n",
        "\n",
        "for smi, answer in zip(smiles, answers):\n",
        "  display(Chem.MolFromSmiles(smi))\n",
        "  your_answer = lipinski_ro5(smi)\n",
        "  print(\"your answer:\", your_answer)\n",
        "  print(\"✅\" if answer == your_answer else \"❌\")\n",
        "  print(\"======================================================\")"
      ],
      "metadata": {
        "id": "uRWPE2KdWxbP"
      },
      "execution_count": null,
      "outputs": []
    },
    {
      "cell_type": "code",
      "source": [],
      "metadata": {
        "id": "YzhuI-GrdqD3"
      },
      "execution_count": null,
      "outputs": []
    }
  ]
}